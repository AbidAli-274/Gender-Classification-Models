{
  "nbformat": 4,
  "nbformat_minor": 0,
  "metadata": {
    "colab": {
      "provenance": []
    },
    "kernelspec": {
      "name": "python3",
      "display_name": "Python 3"
    },
    "language_info": {
      "name": "python"
    }
  },
  "cells": [
    {
      "cell_type": "code",
      "execution_count": 11,
      "metadata": {
        "colab": {
          "base_uri": "https://localhost:8080/"
        },
        "id": "DG1jg6JvkbH0",
        "outputId": "4ac7185f-b097-4be0-97ff-2849e59f7236"
      },
      "outputs": [
        {
          "output_type": "stream",
          "name": "stdout",
          "text": [
            "Drive already mounted at /content/gdrive; to attempt to forcibly remount, call drive.mount(\"/content/gdrive\", force_remount=True).\n"
          ]
        }
      ],
      "source": [
        "from google.colab import drive\n",
        "drive.mount('/content/gdrive')"
      ]
    },
    {
      "cell_type": "code",
      "source": [
        "import os\n",
        "from keras.preprocessing.image import ImageDataGenerator\n",
        "train_dir = os.path.join('/content/gdrive/MyDrive/faces2/', 'Training')\n",
        "train_datagen = ImageDataGenerator(\n",
        "    rescale=1.0 / 255.0,\n",
        "    rotation_range=40,\n",
        "    width_shift_range=0.2,\n",
        "    height_shift_range=0.2,\n",
        "    shear_range=0.2,\n",
        "    zoom_range=0.2,\n",
        "    horizontal_flip=True,\n",
        "    fill_mode='nearest'\n",
        ")\n",
        "#train_datagen = ImageDataGenerator(rescale=1./255)\n",
        "train_generator = train_datagen.flow_from_directory(train_dir,target_size=(150, 150),class_mode='binary')"
      ],
      "metadata": {
        "colab": {
          "base_uri": "https://localhost:8080/"
        },
        "id": "XSM8bMg7kc7H",
        "outputId": "43a8cf73-1ef7-4c80-8b7f-698e43294023"
      },
      "execution_count": 12,
      "outputs": [
        {
          "output_type": "stream",
          "name": "stdout",
          "text": [
            "Found 2051 images belonging to 2 classes.\n"
          ]
        }
      ]
    },
    {
      "cell_type": "code",
      "source": [
        "from keras.preprocessing.image import ImageDataGenerator\n",
        "#train_datagen = ImageDataGenerator(rescale=1./255)\n",
        "#train_datagen = ImageDataGenerator(rescale=1./255,rotation_range=40,width_shift_range=0.2,height_shift_range=0.2,shear_range=0.2,zoom_range=train_generator = train_datagen.flow_from_directory(train_dir,target_size=(150, 150),class_mode='categorical')\n",
        "validation_dir = os.path.join('/content/gdrive/MyDrive/faces2/', 'Validation')\n",
        "validation_datagen = ImageDataGenerator(rescale=1./255)\n",
        "validation_generator = validation_datagen.flow_from_directory(validation_dir,target_size=(150, 150),class_mode='binary')"
      ],
      "metadata": {
        "colab": {
          "base_uri": "https://localhost:8080/"
        },
        "id": "PyIXkLRskexi",
        "outputId": "22c90150-5dcb-4072-907c-d88a26431d4d"
      },
      "execution_count": 13,
      "outputs": [
        {
          "output_type": "stream",
          "name": "stdout",
          "text": [
            "Found 819 images belonging to 2 classes.\n"
          ]
        }
      ]
    },
    {
      "cell_type": "code",
      "source": [
        "from keras.applications import VGG16\n",
        "conv_base = VGG16(weights='imagenet', include_top=False ,input_shape=(150,150, 3))"
      ],
      "metadata": {
        "id": "0weTg-pMkj1d"
      },
      "execution_count": 14,
      "outputs": []
    },
    {
      "cell_type": "code",
      "source": [
        "conv_base.summary()"
      ],
      "metadata": {
        "colab": {
          "base_uri": "https://localhost:8080/"
        },
        "id": "T0bop-OLkmsa",
        "outputId": "210ac0f7-e075-4983-f19e-3b79fc09aecd"
      },
      "execution_count": 15,
      "outputs": [
        {
          "output_type": "stream",
          "name": "stdout",
          "text": [
            "Model: \"vgg16\"\n",
            "_________________________________________________________________\n",
            " Layer (type)                Output Shape              Param #   \n",
            "=================================================================\n",
            " input_2 (InputLayer)        [(None, 150, 150, 3)]     0         \n",
            "                                                                 \n",
            " block1_conv1 (Conv2D)       (None, 150, 150, 64)      1792      \n",
            "                                                                 \n",
            " block1_conv2 (Conv2D)       (None, 150, 150, 64)      36928     \n",
            "                                                                 \n",
            " block1_pool (MaxPooling2D)  (None, 75, 75, 64)        0         \n",
            "                                                                 \n",
            " block2_conv1 (Conv2D)       (None, 75, 75, 128)       73856     \n",
            "                                                                 \n",
            " block2_conv2 (Conv2D)       (None, 75, 75, 128)       147584    \n",
            "                                                                 \n",
            " block2_pool (MaxPooling2D)  (None, 37, 37, 128)       0         \n",
            "                                                                 \n",
            " block3_conv1 (Conv2D)       (None, 37, 37, 256)       295168    \n",
            "                                                                 \n",
            " block3_conv2 (Conv2D)       (None, 37, 37, 256)       590080    \n",
            "                                                                 \n",
            " block3_conv3 (Conv2D)       (None, 37, 37, 256)       590080    \n",
            "                                                                 \n",
            " block3_pool (MaxPooling2D)  (None, 18, 18, 256)       0         \n",
            "                                                                 \n",
            " block4_conv1 (Conv2D)       (None, 18, 18, 512)       1180160   \n",
            "                                                                 \n",
            " block4_conv2 (Conv2D)       (None, 18, 18, 512)       2359808   \n",
            "                                                                 \n",
            " block4_conv3 (Conv2D)       (None, 18, 18, 512)       2359808   \n",
            "                                                                 \n",
            " block4_pool (MaxPooling2D)  (None, 9, 9, 512)         0         \n",
            "                                                                 \n",
            " block5_conv1 (Conv2D)       (None, 9, 9, 512)         2359808   \n",
            "                                                                 \n",
            " block5_conv2 (Conv2D)       (None, 9, 9, 512)         2359808   \n",
            "                                                                 \n",
            " block5_conv3 (Conv2D)       (None, 9, 9, 512)         2359808   \n",
            "                                                                 \n",
            " block5_pool (MaxPooling2D)  (None, 4, 4, 512)         0         \n",
            "                                                                 \n",
            "=================================================================\n",
            "Total params: 14714688 (56.13 MB)\n",
            "Trainable params: 14714688 (56.13 MB)\n",
            "Non-trainable params: 0 (0.00 Byte)\n",
            "_________________________________________________________________\n"
          ]
        }
      ]
    },
    {
      "cell_type": "code",
      "source": [
        "from keras import models\n",
        "from keras import layers\n",
        "model = models.Sequential()\n",
        "model.add(conv_base)\n",
        "model.add(layers.Flatten())\n",
        "model.add(layers.Dense(256, activation='relu'))\n",
        "model.add(layers.Dense(1, activation='sigmoid'))"
      ],
      "metadata": {
        "id": "7JIqfZw8ko7W"
      },
      "execution_count": 16,
      "outputs": []
    },
    {
      "cell_type": "code",
      "source": [
        "conv_base.trainable = False\n",
        "model.summary()"
      ],
      "metadata": {
        "colab": {
          "base_uri": "https://localhost:8080/"
        },
        "id": "n_MHUtETkxtH",
        "outputId": "46e6be93-56f9-4a52-850e-ce2348c4b5bc"
      },
      "execution_count": 17,
      "outputs": [
        {
          "output_type": "stream",
          "name": "stdout",
          "text": [
            "Model: \"sequential_1\"\n",
            "_________________________________________________________________\n",
            " Layer (type)                Output Shape              Param #   \n",
            "=================================================================\n",
            " vgg16 (Functional)          (None, 4, 4, 512)         14714688  \n",
            "                                                                 \n",
            " flatten_1 (Flatten)         (None, 8192)              0         \n",
            "                                                                 \n",
            " dense_2 (Dense)             (None, 256)               2097408   \n",
            "                                                                 \n",
            " dense_3 (Dense)             (None, 1)                 257       \n",
            "                                                                 \n",
            "=================================================================\n",
            "Total params: 16812353 (64.13 MB)\n",
            "Trainable params: 2097665 (8.00 MB)\n",
            "Non-trainable params: 14714688 (56.13 MB)\n",
            "_________________________________________________________________\n"
          ]
        }
      ]
    },
    {
      "cell_type": "code",
      "source": [
        "# Use the updated RMSprop optimizer\n",
        "from keras import optimizers\n",
        "# Use the updated RMSprop optimizer\n",
        "model.compile(loss='binary_crossentropy', optimizer=optimizers.RMSprop(learning_rate=2e-5), metrics=['acc'])"
      ],
      "metadata": {
        "id": "wefywrJXk05d"
      },
      "execution_count": 18,
      "outputs": []
    },
    {
      "cell_type": "code",
      "source": [
        "epochs = 20  # Increase the number of epochs for better training\n",
        "history = model.fit(\n",
        "    train_generator,\n",
        "    validation_data=validation_generator,\n",
        "    epochs=epochs\n",
        ")"
      ],
      "metadata": {
        "colab": {
          "base_uri": "https://localhost:8080/"
        },
        "id": "uiQKNW_Ek4cO",
        "outputId": "ad19e53c-99ba-4fce-c231-2e52b1f9c945"
      },
      "execution_count": 19,
      "outputs": [
        {
          "output_type": "stream",
          "name": "stdout",
          "text": [
            "Epoch 1/20\n",
            "65/65 [==============================] - 818s 13s/step - loss: 0.6144 - acc: 0.6792 - val_loss: 0.6099 - val_acc: 0.6239\n",
            "Epoch 2/20\n",
            "65/65 [==============================] - 814s 13s/step - loss: 0.5313 - acc: 0.7591 - val_loss: 0.4591 - val_acc: 0.7973\n",
            "Epoch 3/20\n",
            "65/65 [==============================] - 821s 13s/step - loss: 0.4889 - acc: 0.7791 - val_loss: 0.4195 - val_acc: 0.8120\n",
            "Epoch 4/20\n",
            "65/65 [==============================] - 810s 13s/step - loss: 0.4622 - acc: 0.7918 - val_loss: 0.3797 - val_acc: 0.8486\n",
            "Epoch 5/20\n",
            "65/65 [==============================] - 764s 12s/step - loss: 0.4354 - acc: 0.8147 - val_loss: 0.3842 - val_acc: 0.8242\n",
            "Epoch 6/20\n",
            "65/65 [==============================] - 806s 12s/step - loss: 0.4175 - acc: 0.8225 - val_loss: 0.3615 - val_acc: 0.8400\n",
            "Epoch 7/20\n",
            "65/65 [==============================] - 818s 13s/step - loss: 0.4081 - acc: 0.8250 - val_loss: 0.3206 - val_acc: 0.8767\n",
            "Epoch 8/20\n",
            "65/65 [==============================] - 819s 13s/step - loss: 0.3875 - acc: 0.8323 - val_loss: 0.2956 - val_acc: 0.8950\n",
            "Epoch 9/20\n",
            "65/65 [==============================] - 801s 12s/step - loss: 0.3809 - acc: 0.8425 - val_loss: 0.3044 - val_acc: 0.8803\n",
            "Epoch 10/20\n",
            "65/65 [==============================] - 815s 13s/step - loss: 0.3695 - acc: 0.8469 - val_loss: 0.2902 - val_acc: 0.8816\n",
            "Epoch 11/20\n",
            "65/65 [==============================] - 811s 13s/step - loss: 0.3660 - acc: 0.8562 - val_loss: 0.3201 - val_acc: 0.8608\n",
            "Epoch 12/20\n",
            "65/65 [==============================] - 813s 13s/step - loss: 0.3606 - acc: 0.8445 - val_loss: 0.2865 - val_acc: 0.8779\n",
            "Epoch 13/20\n",
            "65/65 [==============================] - 765s 12s/step - loss: 0.3483 - acc: 0.8528 - val_loss: 0.2742 - val_acc: 0.8864\n",
            "Epoch 14/20\n",
            "65/65 [==============================] - 813s 13s/step - loss: 0.3430 - acc: 0.8664 - val_loss: 0.2654 - val_acc: 0.8926\n",
            "Epoch 15/20\n",
            "65/65 [==============================] - 770s 12s/step - loss: 0.3509 - acc: 0.8591 - val_loss: 0.2843 - val_acc: 0.8779\n",
            "Epoch 16/20\n",
            "65/65 [==============================] - 821s 13s/step - loss: 0.3417 - acc: 0.8649 - val_loss: 0.2425 - val_acc: 0.9109\n",
            "Epoch 17/20\n",
            "65/65 [==============================] - 773s 12s/step - loss: 0.3410 - acc: 0.8640 - val_loss: 0.2402 - val_acc: 0.9109\n",
            "Epoch 18/20\n",
            "65/65 [==============================] - 813s 13s/step - loss: 0.3291 - acc: 0.8586 - val_loss: 0.2775 - val_acc: 0.8816\n",
            "Epoch 19/20\n",
            "65/65 [==============================] - 816s 13s/step - loss: 0.3261 - acc: 0.8688 - val_loss: 0.2352 - val_acc: 0.9072\n",
            "Epoch 20/20\n",
            "65/65 [==============================] - 808s 12s/step - loss: 0.3253 - acc: 0.8708 - val_loss: 0.2396 - val_acc: 0.9048\n"
          ]
        }
      ]
    },
    {
      "cell_type": "code",
      "source": [
        "import matplotlib.pyplot as plt\n",
        "acc = history.history['acc']\n",
        "val_acc = history.history['val_acc']\n",
        "loss = history.history['loss']\n",
        "val_loss = history.history['val_loss']\n",
        "epochs = range(1, len(acc) + 1)\n",
        "plt.plot(epochs, acc, 'bo', label='Training acc')\n",
        "plt.plot(epochs, val_acc, 'b', label='Validation acc')\n",
        "plt.title('Training and validation accuracy')\n",
        "plt.legend()\n",
        "plt.figure()\n",
        "plt.plot(epochs, loss, 'bo', label='Training loss')\n",
        "plt.plot(epochs, val_loss, 'b', label='Validation loss')\n",
        "plt.title('Training and validation loss')\n",
        "plt.legend()\n",
        "plt.show()"
      ],
      "metadata": {
        "colab": {
          "base_uri": "https://localhost:8080/",
          "height": 887
        },
        "id": "6g4cO9KMnpu2",
        "outputId": "b8bddb3c-26e1-4384-c884-1f020cbfdd24"
      },
      "execution_count": 20,
      "outputs": [
        {
          "output_type": "display_data",
          "data": {
            "text/plain": [
              "<Figure size 640x480 with 1 Axes>"
            ],
            "image/png": "[encoded data removed]"
          },
          "metadata": {}
        },
        {
          "output_type": "display_data",
          "data": {
            "text/plain": [
              "<Figure size 640x480 with 1 Axes>"
            ],
            "image/png": "[encoded data removed]"
          },
          "metadata": {}
        }
      ]
    },
    {
      "cell_type": "code",
      "source": [
        "import os\n",
        "import cv2  # OpenCV for image resizing\n",
        "import numpy as np\n",
        "from keras.preprocessing.image import ImageDataGenerator\n",
        "\n",
        "# Define the path to the image\n",
        "test_dir = '/content/gdrive/MyDrive/faces2/Validation/male/079591.jpg.jpg'\n",
        "\n",
        "# Load the image using OpenCV and resize it to the desired target size\n",
        "target_size = (150, 150)\n",
        "img = cv2.imread(test_dir)\n",
        "img = cv2.resize(img, target_size)\n",
        "\n",
        "# Rescale the image to the range [0, 1]\n",
        "img = img / 255.0\n",
        "\n",
        "# Create a single-image generator\n",
        "test_datagen = ImageDataGenerator()\n",
        "test_generator = test_datagen.flow(\n",
        "    x=np.array([img]),  # Pass the resized image as a NumPy array\n",
        "    y=None,  # No labels needed for inference\n",
        "    batch_size=1,  # Set batch size to 1 for a single image\n",
        "    shuffle=False,  # No need to shuffle for inference\n",
        "    # You can add more image augmentation options here if needed\n",
        ")\n",
        "\n",
        "# Make predictions using your model\n",
        "y_pred = model.predict(test_generator)\n",
        "\n",
        "# The 'predictions' variable now contains the model's predictions for the single image\n",
        "y_pred_classes = (y_pred > 0.5).astype(int)\n",
        "print(y_pred_classes)"
      ],
      "metadata": {
        "colab": {
          "base_uri": "https://localhost:8080/"
        },
        "id": "HdZWTbvgJvdF",
        "outputId": "03044818-3d35-4dc5-ea1f-53da83a21370"
      },
      "execution_count": 21,
      "outputs": [
        {
          "output_type": "stream",
          "name": "stdout",
          "text": [
            "1/1 [==============================] - 1s 508ms/step\n",
            "[[1]]\n"
          ]
        }
      ]
    },
    {
      "cell_type": "code",
      "source": [
        "# Evaluate the model on the test set\n",
        "test_datagen = ImageDataGenerator(rescale=1.0/255.0)\n",
        "test_generator = test_datagen.flow_from_directory(\n",
        "    validation_dir,\n",
        "    target_size=(150,150),\n",
        "    class_mode='binary'\n",
        ")"
      ],
      "metadata": {
        "colab": {
          "base_uri": "https://localhost:8080/"
        },
        "id": "kTR46x0-QMsE",
        "outputId": "584593ce-b957-4441-90e3-11ea43e1aae2"
      },
      "execution_count": 23,
      "outputs": [
        {
          "output_type": "stream",
          "name": "stdout",
          "text": [
            "Found 819 images belonging to 2 classes.\n"
          ]
        }
      ]
    },
    {
      "cell_type": "code",
      "source": [
        "# Assuming y_pred is the output of your model's prediction\n",
        "y_pred = model.predict(test_generator)\n",
        "\n",
        "# Convert probabilities to class labels (assuming binary classification)\n",
        "y_pred_classes = (y_pred > 0.5).astype(int)\n",
        "\n",
        "# Ensure y_pred_classes has the same number of samples as your test data\n",
        "assert y_pred_classes.shape[0] == test_generator.samples\n"
      ],
      "metadata": {
        "colab": {
          "base_uri": "https://localhost:8080/"
        },
        "id": "oRMXUmUjPgoO",
        "outputId": "ce3797ee-5363-43ae-af73-3dd0d4dc6194"
      },
      "execution_count": 24,
      "outputs": [
        {
          "output_type": "stream",
          "name": "stdout",
          "text": [
            "26/26 [==============================] - 221s 8s/step\n"
          ]
        }
      ]
    },
    {
      "cell_type": "code",
      "source": [
        "from sklearn.metrics import classification_report\n",
        "report = classification_report(test_generator.classes, y_pred_classes)\n",
        "print(report)"
      ],
      "metadata": {
        "colab": {
          "base_uri": "https://localhost:8080/"
        },
        "id": "w_Sw0zo5PivC",
        "outputId": "3733e182-925f-4848-b79a-37ee3ac083c4"
      },
      "execution_count": 25,
      "outputs": [
        {
          "output_type": "stream",
          "name": "stdout",
          "text": [
            "              precision    recall  f1-score   support\n",
            "\n",
            "           0       0.47      0.51      0.49       408\n",
            "           1       0.47      0.42      0.44       411\n",
            "\n",
            "    accuracy                           0.47       819\n",
            "   macro avg       0.47      0.47      0.47       819\n",
            "weighted avg       0.47      0.47      0.47       819\n",
            "\n"
          ]
        }
      ]
    },
    {
      "cell_type": "code",
      "source": [
        "from sklearn.metrics import confusion_matrix\n",
        "\n",
        "confusion = confusion_matrix(test_generator.classes, y_pred_classes)\n",
        "print(\"Confusion Matrix:\")\n",
        "print(confusion)\n"
      ],
      "metadata": {
        "colab": {
          "base_uri": "https://localhost:8080/"
        },
        "id": "IFgf5SufPk_T",
        "outputId": "e582ce1f-1ff2-46d3-ed5e-51de5b788476"
      },
      "execution_count": 26,
      "outputs": [
        {
          "output_type": "stream",
          "name": "stdout",
          "text": [
            "Confusion Matrix:\n",
            "[[209 199]\n",
            " [237 174]]\n"
          ]
        }
      ]
    },
    {
      "cell_type": "code",
      "source": [
        "# Assuming you have already trained your Keras model and it's stored in a variable 'model'\n",
        "import pickle\n",
        "\n",
        "# Save the model to a file using pickle\n",
        "with open('model_VGG16_Faces.pkl', 'wb') as model_file:\n",
        "    pickle.dump(model, model_file)\n"
      ],
      "metadata": {
        "id": "Y0RJGJlOPnBt"
      },
      "execution_count": 28,
      "outputs": []
    },
    {
      "cell_type": "code",
      "source": [],
      "metadata": {
        "id": "HFAsd97ZV2Ri"
      },
      "execution_count": null,
      "outputs": []
    }
  ]
}